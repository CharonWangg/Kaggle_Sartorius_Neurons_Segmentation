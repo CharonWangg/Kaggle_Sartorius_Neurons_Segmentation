{
 "cells": [
  {
   "cell_type": "code",
   "execution_count": 1,
   "id": "db063d15",
   "metadata": {
    "execution": {
     "iopub.execute_input": "2021-12-30T21:20:50.068230Z",
     "iopub.status.busy": "2021-12-30T21:20:50.066731Z",
     "iopub.status.idle": "2021-12-30T21:25:01.154643Z",
     "shell.execute_reply": "2021-12-30T21:25:01.153997Z"
    },
    "papermill": {
     "duration": 251.105498,
     "end_time": "2021-12-30T21:25:01.154813",
     "exception": false,
     "start_time": "2021-12-30T21:20:50.049315",
     "status": "completed"
    },
    "tags": []
   },
   "outputs": [
    {
     "name": "stdout",
     "output_type": "stream",
     "text": [
      "Looking in links: ../input/detectron-05/whls\r\n",
      "Processing /kaggle/input/detectron-05/whls/pycocotools-2.0.2/dist/pycocotools-2.0.2.tar\r\n",
      "Requirement already satisfied: setuptools>=18.0 in /opt/conda/lib/python3.7/site-packages (from pycocotools==2.0.2) (58.0.4)\r\n",
      "Requirement already satisfied: cython>=0.27.3 in /opt/conda/lib/python3.7/site-packages (from pycocotools==2.0.2) (0.29.24)\r\n",
      "Requirement already satisfied: matplotlib>=2.1.0 in /opt/conda/lib/python3.7/site-packages (from pycocotools==2.0.2) (3.4.3)\r\n",
      "Requirement already satisfied: kiwisolver>=1.0.1 in /opt/conda/lib/python3.7/site-packages (from matplotlib>=2.1.0->pycocotools==2.0.2) (1.3.2)\r\n",
      "Requirement already satisfied: numpy>=1.16 in /opt/conda/lib/python3.7/site-packages (from matplotlib>=2.1.0->pycocotools==2.0.2) (1.19.5)\r\n",
      "Requirement already satisfied: python-dateutil>=2.7 in /opt/conda/lib/python3.7/site-packages (from matplotlib>=2.1.0->pycocotools==2.0.2) (2.8.0)\r\n",
      "Requirement already satisfied: pyparsing>=2.2.1 in /opt/conda/lib/python3.7/site-packages (from matplotlib>=2.1.0->pycocotools==2.0.2) (2.4.7)\r\n",
      "Requirement already satisfied: pillow>=6.2.0 in /opt/conda/lib/python3.7/site-packages (from matplotlib>=2.1.0->pycocotools==2.0.2) (8.2.0)\r\n",
      "Requirement already satisfied: cycler>=0.10 in /opt/conda/lib/python3.7/site-packages (from matplotlib>=2.1.0->pycocotools==2.0.2) (0.10.0)\r\n",
      "Requirement already satisfied: six in /opt/conda/lib/python3.7/site-packages (from cycler>=0.10->matplotlib>=2.1.0->pycocotools==2.0.2) (1.16.0)\r\n",
      "Building wheels for collected packages: pycocotools\r\n",
      "  Building wheel for pycocotools (setup.py) ... \u001b[?25l-\b \b\\\b \b|\b \b/\b \b-\b \b\\\b \b|\b \b/\b \bdone\r\n",
      "\u001b[?25h  Created wheel for pycocotools: filename=pycocotools-2.0.2-cp37-cp37m-linux_x86_64.whl size=272235 sha256=c84caf069ea9bb6ae10438367466bd7b23ddbdcf85dd1aaf3763b811ead42f61\r\n",
      "  Stored in directory: /root/.cache/pip/wheels/d2/09/29/2054c6cc4599cf39f1c52ce3c20bfb50be696caa5d5ba460c9\r\n",
      "Successfully built pycocotools\r\n",
      "Installing collected packages: pycocotools\r\n",
      "Successfully installed pycocotools-2.0.2\r\n",
      "\u001b[33mWARNING: Running pip as the 'root' user can result in broken permissions and conflicting behaviour with the system package manager. It is recommended to use a virtual environment instead: https://pip.pypa.io/warnings/venv\u001b[0m\r\n",
      "Looking in links: ../input/detectron-05/whls\r\n",
      "Processing /kaggle/input/detectron-05/whls/fvcore-0.1.5.post20211019/fvcore-0.1.5.post20211019\r\n",
      "\u001b[33m  DEPRECATION: A future pip version will change local packages to be built in-place without first copying to a temporary directory. We recommend you use --use-feature=in-tree-build to test your packages with this new behavior before it becomes the default.\r\n",
      "   pip 21.3 will remove support for this functionality. You can find discussion regarding this at https://github.com/pypa/pip/issues/7555.\u001b[0m\r\n",
      "Requirement already satisfied: numpy in /opt/conda/lib/python3.7/site-packages (from fvcore==0.1.5.post20211019) (1.19.5)\r\n",
      "Requirement already satisfied: yacs>=0.1.6 in /opt/conda/lib/python3.7/site-packages (from fvcore==0.1.5.post20211019) (0.1.8)\r\n",
      "Requirement already satisfied: pyyaml>=5.1 in /opt/conda/lib/python3.7/site-packages (from fvcore==0.1.5.post20211019) (5.4.1)\r\n",
      "Requirement already satisfied: tqdm in /opt/conda/lib/python3.7/site-packages (from fvcore==0.1.5.post20211019) (4.62.3)\r\n",
      "Requirement already satisfied: termcolor>=1.1 in /opt/conda/lib/python3.7/site-packages (from fvcore==0.1.5.post20211019) (1.1.0)\r\n",
      "Requirement already satisfied: Pillow in /opt/conda/lib/python3.7/site-packages (from fvcore==0.1.5.post20211019) (8.2.0)\r\n",
      "Requirement already satisfied: tabulate in /opt/conda/lib/python3.7/site-packages (from fvcore==0.1.5.post20211019) (0.8.9)\r\n",
      "Processing /kaggle/input/detectron-05/whls/iopath-0.1.9-py3-none-any.whl\r\n",
      "Requirement already satisfied: portalocker in /opt/conda/lib/python3.7/site-packages (from iopath>=0.1.7->fvcore==0.1.5.post20211019) (2.3.2)\r\n",
      "Building wheels for collected packages: fvcore\r\n",
      "  Building wheel for fvcore (setup.py) ... \u001b[?25l-\b \b\\\b \bdone\r\n",
      "\u001b[?25h  Created wheel for fvcore: filename=fvcore-0.1.5.post20211019-py3-none-any.whl size=60878 sha256=455ef053c00368de5aa6846116049b504cdfff4ecd206f8f76ae035a0945232c\r\n",
      "  Stored in directory: /root/.cache/pip/wheels/ba/23/7f/50fe782028a2bb7f9d8b13585c0a0a1723a7a3adb53cf3d1b6\r\n",
      "Successfully built fvcore\r\n",
      "Installing collected packages: iopath, fvcore\r\n",
      "Successfully installed fvcore-0.1.5.post20211019 iopath-0.1.9\r\n",
      "\u001b[33mWARNING: Running pip as the 'root' user can result in broken permissions and conflicting behaviour with the system package manager. It is recommended to use a virtual environment instead: https://pip.pypa.io/warnings/venv\u001b[0m\r\n",
      "Looking in links: ../input/detectron-05/whls\r\n",
      "Processing /kaggle/input/detectron-05/whls/antlr4-python3-runtime-4.8/antlr4-python3-runtime-4.8\r\n",
      "\u001b[33m  DEPRECATION: A future pip version will change local packages to be built in-place without first copying to a temporary directory. We recommend you use --use-feature=in-tree-build to test your packages with this new behavior before it becomes the default.\r\n",
      "   pip 21.3 will remove support for this functionality. You can find discussion regarding this at https://github.com/pypa/pip/issues/7555.\u001b[0m\r\n",
      "Building wheels for collected packages: antlr4-python3-runtime\r\n",
      "  Building wheel for antlr4-python3-runtime (setup.py) ... \u001b[?25l-\b \b\\\b \bdone\r\n",
      "\u001b[?25h  Created wheel for antlr4-python3-runtime: filename=antlr4_python3_runtime-4.8-py3-none-any.whl size=141230 sha256=f509c96a652685f2fb18182b16f7172b78277f813edc15d4e9a9a70d23ad1756\r\n",
      "  Stored in directory: /root/.cache/pip/wheels/6e/9c/5b/9e8e1e06147cb3b136c1ee5a7becab5e221e799fd0fb56d4e8\r\n",
      "Successfully built antlr4-python3-runtime\r\n",
      "Installing collected packages: antlr4-python3-runtime\r\n",
      "Successfully installed antlr4-python3-runtime-4.8\r\n",
      "\u001b[33mWARNING: Running pip as the 'root' user can result in broken permissions and conflicting behaviour with the system package manager. It is recommended to use a virtual environment instead: https://pip.pypa.io/warnings/venv\u001b[0m\r\n",
      "Looking in links: ../input/detectron-05/whls\r\n",
      "Processing /kaggle/input/detectron-05/whls/detectron2-0.5/detectron2\r\n",
      "\u001b[33m  DEPRECATION: A future pip version will change local packages to be built in-place without first copying to a temporary directory. We recommend you use --use-feature=in-tree-build to test your packages with this new behavior before it becomes the default.\r\n",
      "   pip 21.3 will remove support for this functionality. You can find discussion regarding this at https://github.com/pypa/pip/issues/7555.\u001b[0m\r\n",
      "Requirement already satisfied: Pillow>=7.1 in /opt/conda/lib/python3.7/site-packages (from detectron2==0.5) (8.2.0)\r\n",
      "Requirement already satisfied: matplotlib in /opt/conda/lib/python3.7/site-packages (from detectron2==0.5) (3.4.3)\r\n",
      "Requirement already satisfied: pycocotools>=2.0.2 in /opt/conda/lib/python3.7/site-packages (from detectron2==0.5) (2.0.2)\r\n",
      "Requirement already satisfied: termcolor>=1.1 in /opt/conda/lib/python3.7/site-packages (from detectron2==0.5) (1.1.0)\r\n",
      "Requirement already satisfied: yacs>=0.1.8 in /opt/conda/lib/python3.7/site-packages (from detectron2==0.5) (0.1.8)\r\n",
      "Requirement already satisfied: tabulate in /opt/conda/lib/python3.7/site-packages (from detectron2==0.5) (0.8.9)\r\n",
      "Requirement already satisfied: cloudpickle in /opt/conda/lib/python3.7/site-packages (from detectron2==0.5) (2.0.0)\r\n",
      "Requirement already satisfied: tqdm>4.29.0 in /opt/conda/lib/python3.7/site-packages (from detectron2==0.5) (4.62.3)\r\n",
      "Requirement already satisfied: tensorboard in /opt/conda/lib/python3.7/site-packages (from detectron2==0.5) (2.6.0)\r\n",
      "Requirement already satisfied: fvcore<0.1.6,>=0.1.5 in /opt/conda/lib/python3.7/site-packages (from detectron2==0.5) (0.1.5.post20211019)\r\n",
      "Requirement already satisfied: iopath<0.1.10,>=0.1.7 in /opt/conda/lib/python3.7/site-packages (from detectron2==0.5) (0.1.9)\r\n",
      "Requirement already satisfied: future in /opt/conda/lib/python3.7/site-packages (from detectron2==0.5) (0.18.2)\r\n",
      "Requirement already satisfied: pydot in /opt/conda/lib/python3.7/site-packages (from detectron2==0.5) (1.4.2)\r\n",
      "Processing /kaggle/input/detectron-05/whls/omegaconf-2.1.1-py3-none-any.whl\r\n",
      "Processing /kaggle/input/detectron-05/whls/hydra_core-1.1.1-py3-none-any.whl\r\n",
      "Processing /kaggle/input/detectron-05/whls/black-21.4b2-py3-none-any.whl\r\n",
      "Requirement already satisfied: toml>=0.10.1 in /opt/conda/lib/python3.7/site-packages (from black==21.4b2->detectron2==0.5) (0.10.2)\r\n",
      "Requirement already satisfied: mypy-extensions>=0.4.3 in /opt/conda/lib/python3.7/site-packages (from black==21.4b2->detectron2==0.5) (0.4.3)\r\n",
      "Requirement already satisfied: regex>=2020.1.8 in /opt/conda/lib/python3.7/site-packages (from black==21.4b2->detectron2==0.5) (2021.8.28)\r\n",
      "Requirement already satisfied: typed-ast>=1.4.2 in /opt/conda/lib/python3.7/site-packages (from black==21.4b2->detectron2==0.5) (1.4.3)\r\n",
      "Requirement already satisfied: appdirs in /opt/conda/lib/python3.7/site-packages (from black==21.4b2->detectron2==0.5) (1.4.4)\r\n",
      "Requirement already satisfied: click>=7.1.2 in /opt/conda/lib/python3.7/site-packages (from black==21.4b2->detectron2==0.5) (8.0.1)\r\n",
      "Requirement already satisfied: pathspec<1,>=0.8.1 in /opt/conda/lib/python3.7/site-packages (from black==21.4b2->detectron2==0.5) (0.9.0)\r\n",
      "Requirement already satisfied: typing-extensions>=3.7.4 in /opt/conda/lib/python3.7/site-packages (from black==21.4b2->detectron2==0.5) (3.10.0.2)\r\n",
      "Requirement already satisfied: importlib-metadata in /opt/conda/lib/python3.7/site-packages (from click>=7.1.2->black==21.4b2->detectron2==0.5) (4.8.1)\r\n",
      "Requirement already satisfied: numpy in /opt/conda/lib/python3.7/site-packages (from fvcore<0.1.6,>=0.1.5->detectron2==0.5) (1.19.5)\r\n",
      "Requirement already satisfied: pyyaml>=5.1 in /opt/conda/lib/python3.7/site-packages (from fvcore<0.1.6,>=0.1.5->detectron2==0.5) (5.4.1)\r\n",
      "Requirement already satisfied: antlr4-python3-runtime==4.8 in /opt/conda/lib/python3.7/site-packages (from hydra-core>=1.1->detectron2==0.5) (4.8)\r\n",
      "Requirement already satisfied: importlib-resources in /opt/conda/lib/python3.7/site-packages (from hydra-core>=1.1->detectron2==0.5) (5.2.2)\r\n",
      "Requirement already satisfied: portalocker in /opt/conda/lib/python3.7/site-packages (from iopath<0.1.10,>=0.1.7->detectron2==0.5) (2.3.2)\r\n",
      "Requirement already satisfied: setuptools>=18.0 in /opt/conda/lib/python3.7/site-packages (from pycocotools>=2.0.2->detectron2==0.5) (58.0.4)\r\n",
      "Requirement already satisfied: cython>=0.27.3 in /opt/conda/lib/python3.7/site-packages (from pycocotools>=2.0.2->detectron2==0.5) (0.29.24)\r\n",
      "Requirement already satisfied: pyparsing>=2.2.1 in /opt/conda/lib/python3.7/site-packages (from matplotlib->detectron2==0.5) (2.4.7)\r\n",
      "Requirement already satisfied: kiwisolver>=1.0.1 in /opt/conda/lib/python3.7/site-packages (from matplotlib->detectron2==0.5) (1.3.2)\r\n",
      "Requirement already satisfied: cycler>=0.10 in /opt/conda/lib/python3.7/site-packages (from matplotlib->detectron2==0.5) (0.10.0)\r\n",
      "Requirement already satisfied: python-dateutil>=2.7 in /opt/conda/lib/python3.7/site-packages (from matplotlib->detectron2==0.5) (2.8.0)\r\n",
      "Requirement already satisfied: six in /opt/conda/lib/python3.7/site-packages (from cycler>=0.10->matplotlib->detectron2==0.5) (1.16.0)\r\n",
      "Requirement already satisfied: zipp>=0.5 in /opt/conda/lib/python3.7/site-packages (from importlib-metadata->click>=7.1.2->black==21.4b2->detectron2==0.5) (3.5.0)\r\n",
      "Requirement already satisfied: requests<3,>=2.21.0 in /opt/conda/lib/python3.7/site-packages (from tensorboard->detectron2==0.5) (2.25.1)\r\n",
      "Requirement already satisfied: tensorboard-data-server<0.7.0,>=0.6.0 in /opt/conda/lib/python3.7/site-packages (from tensorboard->detectron2==0.5) (0.6.1)\r\n",
      "Requirement already satisfied: grpcio>=1.24.3 in /opt/conda/lib/python3.7/site-packages (from tensorboard->detectron2==0.5) (1.38.1)\r\n",
      "Requirement already satisfied: wheel>=0.26 in /opt/conda/lib/python3.7/site-packages (from tensorboard->detectron2==0.5) (0.37.0)\r\n",
      "Requirement already satisfied: google-auth<2,>=1.6.3 in /opt/conda/lib/python3.7/site-packages (from tensorboard->detectron2==0.5) (1.35.0)\r\n",
      "Requirement already satisfied: absl-py>=0.4 in /opt/conda/lib/python3.7/site-packages (from tensorboard->detectron2==0.5) (0.14.0)\r\n",
      "Requirement already satisfied: tensorboard-plugin-wit>=1.6.0 in /opt/conda/lib/python3.7/site-packages (from tensorboard->detectron2==0.5) (1.8.0)\r\n",
      "Requirement already satisfied: google-auth-oauthlib<0.5,>=0.4.1 in /opt/conda/lib/python3.7/site-packages (from tensorboard->detectron2==0.5) (0.4.6)\r\n",
      "Requirement already satisfied: werkzeug>=0.11.15 in /opt/conda/lib/python3.7/site-packages (from tensorboard->detectron2==0.5) (2.0.1)\r\n",
      "Requirement already satisfied: protobuf>=3.6.0 in /opt/conda/lib/python3.7/site-packages (from tensorboard->detectron2==0.5) (3.18.1)\r\n",
      "Requirement already satisfied: markdown>=2.6.8 in /opt/conda/lib/python3.7/site-packages (from tensorboard->detectron2==0.5) (3.3.4)\r\n",
      "Requirement already satisfied: pyasn1-modules>=0.2.1 in /opt/conda/lib/python3.7/site-packages (from google-auth<2,>=1.6.3->tensorboard->detectron2==0.5) (0.2.7)\r\n",
      "Requirement already satisfied: rsa<5,>=3.1.4 in /opt/conda/lib/python3.7/site-packages (from google-auth<2,>=1.6.3->tensorboard->detectron2==0.5) (4.7.2)\r\n",
      "Requirement already satisfied: cachetools<5.0,>=2.0.0 in /opt/conda/lib/python3.7/site-packages (from google-auth<2,>=1.6.3->tensorboard->detectron2==0.5) (4.2.2)\r\n",
      "Requirement already satisfied: requests-oauthlib>=0.7.0 in /opt/conda/lib/python3.7/site-packages (from google-auth-oauthlib<0.5,>=0.4.1->tensorboard->detectron2==0.5) (1.3.0)\r\n",
      "Requirement already satisfied: pyasn1<0.5.0,>=0.4.6 in /opt/conda/lib/python3.7/site-packages (from pyasn1-modules>=0.2.1->google-auth<2,>=1.6.3->tensorboard->detectron2==0.5) (0.4.8)\r\n",
      "Requirement already satisfied: certifi>=2017.4.17 in /opt/conda/lib/python3.7/site-packages (from requests<3,>=2.21.0->tensorboard->detectron2==0.5) (2021.10.8)\r\n",
      "Requirement already satisfied: idna<3,>=2.5 in /opt/conda/lib/python3.7/site-packages (from requests<3,>=2.21.0->tensorboard->detectron2==0.5) (2.10)\r\n",
      "Requirement already satisfied: urllib3<1.27,>=1.21.1 in /opt/conda/lib/python3.7/site-packages (from requests<3,>=2.21.0->tensorboard->detectron2==0.5) (1.26.6)\r\n",
      "Requirement already satisfied: chardet<5,>=3.0.2 in /opt/conda/lib/python3.7/site-packages (from requests<3,>=2.21.0->tensorboard->detectron2==0.5) (4.0.0)\r\n",
      "Requirement already satisfied: oauthlib>=3.0.0 in /opt/conda/lib/python3.7/site-packages (from requests-oauthlib>=0.7.0->google-auth-oauthlib<0.5,>=0.4.1->tensorboard->detectron2==0.5) (3.1.1)\r\n",
      "Building wheels for collected packages: detectron2\r\n",
      "  Building wheel for detectron2 (setup.py) ... \u001b[?25l-\b \b\\\b \b|\b \b/\b \b-\b \b\\\b \b|\b \b/\b \b-\b \b\\\b \b|\b \b/\b \b-\b \b\\\b \b|\b \b/\b \b-\b \b\\\b \b|\b \bdone\r\n",
      "\u001b[?25h  Created wheel for detectron2: filename=detectron2-0.5-cp37-cp37m-linux_x86_64.whl size=5726779 sha256=1b59a855712638833d649a48806069bf249ea41001ee5fa32d8e2a9a182fdc13\r\n",
      "  Stored in directory: /tmp/pip-ephem-wheel-cache-8i7bozxf/wheels/2c/7c/aa/9abf8b469a63a1d1e55f84a4eb7afea06d3399564584ea464a\r\n",
      "Successfully built detectron2\r\n",
      "Installing collected packages: omegaconf, hydra-core, black, detectron2\r\n",
      "  Attempting uninstall: black\r\n",
      "    Found existing installation: black 21.9b0\r\n",
      "    Uninstalling black-21.9b0:\r\n",
      "      Successfully uninstalled black-21.9b0\r\n",
      "Successfully installed black-21.4b2 detectron2-0.5 hydra-core-1.1.1 omegaconf-2.1.1\r\n",
      "\u001b[33mWARNING: Running pip as the 'root' user can result in broken permissions and conflicting behaviour with the system package manager. It is recommended to use a virtual environment instead: https://pip.pypa.io/warnings/venv\u001b[0m\r\n",
      "Looking in links: ./\r\n",
      "Processing /kaggle/input/ensemble-boxes-104/ensemble_boxes-1.0.4\r\n",
      "\u001b[33m  DEPRECATION: A future pip version will change local packages to be built in-place without first copying to a temporary directory. We recommend you use --use-feature=in-tree-build to test your packages with this new behavior before it becomes the default.\r\n",
      "   pip 21.3 will remove support for this functionality. You can find discussion regarding this at https://github.com/pypa/pip/issues/7555.\u001b[0m\r\n",
      "Requirement already satisfied: numpy in /opt/conda/lib/python3.7/site-packages (from ensemble-boxes==1.0.4) (1.19.5)\r\n",
      "Requirement already satisfied: pandas in /opt/conda/lib/python3.7/site-packages (from ensemble-boxes==1.0.4) (1.3.3)\r\n",
      "Requirement already satisfied: numba in /opt/conda/lib/python3.7/site-packages (from ensemble-boxes==1.0.4) (0.54.0)\r\n",
      "Requirement already satisfied: llvmlite<0.38,>=0.37.0rc1 in /opt/conda/lib/python3.7/site-packages (from numba->ensemble-boxes==1.0.4) (0.37.0)\r\n",
      "Requirement already satisfied: setuptools in /opt/conda/lib/python3.7/site-packages (from numba->ensemble-boxes==1.0.4) (58.0.4)\r\n",
      "Requirement already satisfied: python-dateutil>=2.7.3 in /opt/conda/lib/python3.7/site-packages (from pandas->ensemble-boxes==1.0.4) (2.8.0)\r\n",
      "Requirement already satisfied: pytz>=2017.3 in /opt/conda/lib/python3.7/site-packages (from pandas->ensemble-boxes==1.0.4) (2021.1)\r\n",
      "Requirement already satisfied: six>=1.5 in /opt/conda/lib/python3.7/site-packages (from python-dateutil>=2.7.3->pandas->ensemble-boxes==1.0.4) (1.16.0)\r\n",
      "Building wheels for collected packages: ensemble-boxes\r\n",
      "  Building wheel for ensemble-boxes (setup.py) ... \u001b[?25l-\b \bdone\r\n",
      "\u001b[?25h  Created wheel for ensemble-boxes: filename=ensemble_boxes-1.0.4-py3-none-any.whl size=14070 sha256=da835f72dc5b0c149c7c730aaf148c06849dd35e3a257098e1356fb7b87585c9\r\n",
      "  Stored in directory: /root/.cache/pip/wheels/66/11/27/bd684df8a75ad0e720fdc77d199e5876063925350905a64205\r\n",
      "Successfully built ensemble-boxes\r\n",
      "Installing collected packages: ensemble-boxes\r\n",
      "Successfully installed ensemble-boxes-1.0.4\r\n",
      "\u001b[33mWARNING: Running pip as the 'root' user can result in broken permissions and conflicting behaviour with the system package manager. It is recommended to use a virtual environment instead: https://pip.pypa.io/warnings/venv\u001b[0m\r\n",
      "\u001b[33mWARNING: Requirement '../input/sartoriusensemble/omegaconf-2.1.1-py3-none-any.whl' looks like a filename, but the file does not exist\u001b[0m\r\n",
      "Processing /kaggle/input/sartoriusensemble/omegaconf-2.1.1-py3-none-any.whl\r\n",
      "\u001b[31mERROR: Could not install packages due to an OSError: [Errno 2] No such file or directory: '/kaggle/input/sartoriusensemble/omegaconf-2.1.1-py3-none-any.whl'\r\n",
      "\u001b[0m\r\n",
      "\u001b[33mWARNING: Requirement '../input/sartoriusensemble/iopath-0.1.9-py3-none-any.whl' looks like a filename, but the file does not exist\u001b[0m\r\n",
      "Processing /kaggle/input/sartoriusensemble/iopath-0.1.9-py3-none-any.whl\r\n",
      "\u001b[31mERROR: Could not install packages due to an OSError: [Errno 2] No such file or directory: '/kaggle/input/sartoriusensemble/iopath-0.1.9-py3-none-any.whl'\r\n",
      "\u001b[0m\r\n"
     ]
    }
   ],
   "source": [
    "import pandas as pd\n",
    "import os\n",
    "import sys\n",
    "\n",
    "!pip install ../input/detectron-05/whls/pycocotools-2.0.2/dist/pycocotools-2.0.2.tar --no-index --find-links ../input/detectron-05/whls \n",
    "!pip install ../input/detectron-05/whls/fvcore-0.1.5.post20211019/fvcore-0.1.5.post20211019 --no-index --find-links ../input/detectron-05/whls \n",
    "!pip install ../input/detectron-05/whls/antlr4-python3-runtime-4.8/antlr4-python3-runtime-4.8 --no-index --find-links ../input/detectron-05/whls \n",
    "!pip install ../input/detectron-05/whls/detectron2-0.5/detectron2 --no-index --find-links ../input/detectron-05/whls \n",
    "!pip install ../input/ensemble-boxes-104/ensemble_boxes-1.0.4/ -f ./ --no-index\n",
    "!pip install ../input/sartoriusensemble/omegaconf-2.1.1-py3-none-any.whl\n",
    "!pip install ../input/sartoriusensemble/iopath-0.1.9-py3-none-any.whl\n"
   ]
  },
  {
   "cell_type": "code",
   "execution_count": 2,
   "id": "ca552e83",
   "metadata": {
    "execution": {
     "iopub.execute_input": "2021-12-30T21:25:01.229029Z",
     "iopub.status.busy": "2021-12-30T21:25:01.228261Z",
     "iopub.status.idle": "2021-12-30T21:25:01.237734Z",
     "shell.execute_reply": "2021-12-30T21:25:01.238108Z",
     "shell.execute_reply.started": "2021-12-30T21:11:50.146849Z"
    },
    "papermill": {
     "duration": 0.050683,
     "end_time": "2021-12-30T21:25:01.238238",
     "exception": false,
     "start_time": "2021-12-30T21:25:01.187555",
     "status": "completed"
    },
    "tags": []
   },
   "outputs": [],
   "source": [
    "import pandas as pd\n",
    "import os\n",
    "import sys\n",
    "os.system(\"rm -rf ./*.csv\")\n",
    "csvfiles = []"
   ]
  },
  {
   "cell_type": "code",
   "execution_count": 3,
   "id": "67abdbb6",
   "metadata": {
    "execution": {
     "iopub.execute_input": "2021-12-30T21:25:01.305993Z",
     "iopub.status.busy": "2021-12-30T21:25:01.305211Z",
     "iopub.status.idle": "2021-12-30T21:25:55.860715Z",
     "shell.execute_reply": "2021-12-30T21:25:55.861139Z",
     "shell.execute_reply.started": "2021-12-30T21:11:51.009034Z"
    },
    "papermill": {
     "duration": 54.590504,
     "end_time": "2021-12-30T21:25:55.861311",
     "exception": false,
     "start_time": "2021-12-30T21:25:01.270807",
     "status": "completed"
    },
    "tags": []
   },
   "outputs": [
    {
     "name": "stdout",
     "output_type": "stream",
     "text": [
      "Avengers Ensemble!!!!\r\n"
     ]
    }
   ],
   "source": [
    "! python -W ignore ../input/d/charonwangg/test-submit/submit-t.py --modelpath '../input/sub1230/1230_236_207_402.pth' --submitfile 'submit1.csv'\n",
    "csvfiles.append(pd.read_csv('./submit1.csv'))"
   ]
  },
  {
   "cell_type": "code",
   "execution_count": 4,
   "id": "27cce21b",
   "metadata": {
    "execution": {
     "iopub.execute_input": "2021-12-30T21:25:55.931548Z",
     "iopub.status.busy": "2021-12-30T21:25:55.930764Z",
     "iopub.status.idle": "2021-12-30T21:26:43.055737Z",
     "shell.execute_reply": "2021-12-30T21:26:43.056185Z",
     "shell.execute_reply.started": "2021-12-30T21:12:31.263433Z"
    },
    "papermill": {
     "duration": 47.161274,
     "end_time": "2021-12-30T21:26:43.056353",
     "exception": false,
     "start_time": "2021-12-30T21:25:55.895079",
     "status": "completed"
    },
    "tags": []
   },
   "outputs": [
    {
     "name": "stdout",
     "output_type": "stream",
     "text": [
      "Avengers Ensemble!!!!\r\n"
     ]
    }
   ],
   "source": [
    "! python -W ignore ../input/d/charonwangg/test-submit/submit-t.py --modelpath '../input/output-1228-weightedloss-cv328/1228_211_206_400.pth' --submitfile 'submit2.csv'\n",
    "csvfiles.append(pd.read_csv('./submit2.csv'))"
   ]
  },
  {
   "cell_type": "code",
   "execution_count": 5,
   "id": "f940ccda",
   "metadata": {
    "execution": {
     "iopub.execute_input": "2021-12-30T21:26:43.128689Z",
     "iopub.status.busy": "2021-12-30T21:26:43.124946Z",
     "iopub.status.idle": "2021-12-30T21:27:31.572741Z",
     "shell.execute_reply": "2021-12-30T21:27:31.572207Z",
     "shell.execute_reply.started": "2021-12-30T21:17:18.023968Z"
    },
    "papermill": {
     "duration": 48.482412,
     "end_time": "2021-12-30T21:27:31.572922",
     "exception": false,
     "start_time": "2021-12-30T21:26:43.090510",
     "status": "completed"
    },
    "tags": []
   },
   "outputs": [
    {
     "name": "stdout",
     "output_type": "stream",
     "text": [
      "Avengers Ensemble!!!!\r\n"
     ]
    }
   ],
   "source": [
    "! python -W ignore ../input/d/charonwangg/test-submit/submit-t.py --modelpath '../input/sub1229/1229_all_data.pth' --submitfile 'submit3.csv'\n",
    "csvfiles.append(pd.read_csv('./submit3.csv'))"
   ]
  },
  {
   "cell_type": "code",
   "execution_count": 6,
   "id": "d00c04f8",
   "metadata": {
    "execution": {
     "iopub.execute_input": "2021-12-30T21:27:31.643394Z",
     "iopub.status.busy": "2021-12-30T21:27:31.642693Z",
     "iopub.status.idle": "2021-12-30T21:27:31.645322Z",
     "shell.execute_reply": "2021-12-30T21:27:31.644906Z",
     "shell.execute_reply.started": "2021-12-30T21:13:10.763111Z"
    },
    "papermill": {
     "duration": 0.039295,
     "end_time": "2021-12-30T21:27:31.645447",
     "exception": false,
     "start_time": "2021-12-30T21:27:31.606152",
     "status": "completed"
    },
    "tags": []
   },
   "outputs": [],
   "source": [
    "# ! python -W ignore ../input/sartoriusensemble/submit-t.py --modelpath '../input/sub1226/1226_3stage_231_200_397.pth' --submitfile 'submit4.csv'\n",
    "# csvfiles.append(pd.read_csv('./submit4.csv'))"
   ]
  },
  {
   "cell_type": "code",
   "execution_count": 7,
   "id": "84d0c6af",
   "metadata": {
    "execution": {
     "iopub.execute_input": "2021-12-30T21:27:31.714771Z",
     "iopub.status.busy": "2021-12-30T21:27:31.713938Z",
     "iopub.status.idle": "2021-12-30T21:27:31.715899Z",
     "shell.execute_reply": "2021-12-30T21:27:31.716296Z",
     "shell.execute_reply.started": "2021-12-30T21:13:10.770578Z"
    },
    "papermill": {
     "duration": 0.038224,
     "end_time": "2021-12-30T21:27:31.716438",
     "exception": false,
     "start_time": "2021-12-30T21:27:31.678214",
     "status": "completed"
    },
    "tags": []
   },
   "outputs": [],
   "source": [
    "# ! python -W ignore ../input/sartoriusensemble/submit-t.py --modelpath '../input/weightedloss-1226-217-203-399/1226_217_203_399.pth' --submitfile 'submit5.csv'\n",
    "# csvfiles.append(pd.read_csv('./submit5.csv'))"
   ]
  },
  {
   "cell_type": "code",
   "execution_count": 8,
   "id": "770687c1",
   "metadata": {
    "execution": {
     "iopub.execute_input": "2021-12-30T21:27:31.786857Z",
     "iopub.status.busy": "2021-12-30T21:27:31.786086Z",
     "iopub.status.idle": "2021-12-30T21:27:31.788045Z",
     "shell.execute_reply": "2021-12-30T21:27:31.788478Z",
     "shell.execute_reply.started": "2021-12-30T21:18:09.473827Z"
    },
    "papermill": {
     "duration": 0.03909,
     "end_time": "2021-12-30T21:27:31.788594",
     "exception": false,
     "start_time": "2021-12-30T21:27:31.749504",
     "status": "completed"
    },
    "tags": []
   },
   "outputs": [],
   "source": [
    "THRESHOLDS = [.2664993123909565, .3134462119696301, .6716982906416183]#[0.18744284533097239, 0.18388924150437724, 0.7189045317890984]\n",
    "MIN_PIXELS = [60, 120, 80]#[30, 160, 60]\n",
    "PIXEL_CLASS_THRESHOLDS = [0.45, 0.4, 0.45]"
   ]
  },
  {
   "cell_type": "code",
   "execution_count": 9,
   "id": "eb65f61f",
   "metadata": {
    "execution": {
     "iopub.execute_input": "2021-12-30T21:27:31.863486Z",
     "iopub.status.busy": "2021-12-30T21:27:31.862684Z",
     "iopub.status.idle": "2021-12-30T21:27:31.864588Z",
     "shell.execute_reply": "2021-12-30T21:27:31.864971Z",
     "shell.execute_reply.started": "2021-12-30T21:18:09.774283Z"
    },
    "papermill": {
     "duration": 0.043421,
     "end_time": "2021-12-30T21:27:31.865086",
     "exception": false,
     "start_time": "2021-12-30T21:27:31.821665",
     "status": "completed"
    },
    "tags": []
   },
   "outputs": [],
   "source": [
    "def rle_decode(mask_rle, shape=(520, 704)):\n",
    "    '''\n",
    "    mask_rle: run-length as string formated (start length)\n",
    "    shape: (height,width) of array to return \n",
    "    Returns numpy array, 1 - mask, 0 - background\n",
    "\n",
    "    '''\n",
    "    s = mask_rle.split()\n",
    "    starts, lengths = [np.asarray(x, dtype=int) for x in (s[0:][::2], s[1:][::2])]\n",
    "    starts -= 1\n",
    "    ends = starts + lengths\n",
    "    img = np.zeros(shape[0]*shape[1], dtype=np.uint8)\n",
    "    for lo, hi in zip(starts, ends):\n",
    "        img[lo:hi] = 1\n",
    "    return img.reshape(shape)  # Needed to align to RLE direction\n",
    "\n",
    "def rle_encode(img):\n",
    "    '''\n",
    "    img: numpy array, 1 - mask, 0 - background\n",
    "    Returns run length as string formated\n",
    "    '''\n",
    "    pixels = img.flatten()\n",
    "    pixels = np.concatenate([[0], pixels, [0]])\n",
    "    runs = np.where(pixels[1:] != pixels[:-1])[0] + 1\n",
    "    runs[1::2] -= runs[::2]\n",
    "    return ' '.join(str(x) for x in runs)"
   ]
  },
  {
   "cell_type": "code",
   "execution_count": 10,
   "id": "ec587f31",
   "metadata": {
    "execution": {
     "iopub.execute_input": "2021-12-30T21:27:31.941784Z",
     "iopub.status.busy": "2021-12-30T21:27:31.941037Z",
     "iopub.status.idle": "2021-12-30T21:27:32.138338Z",
     "shell.execute_reply": "2021-12-30T21:27:32.137489Z",
     "shell.execute_reply.started": "2021-12-30T21:18:40.359919Z"
    },
    "papermill": {
     "duration": 0.240706,
     "end_time": "2021-12-30T21:27:32.138494",
     "exception": false,
     "start_time": "2021-12-30T21:27:31.897788",
     "status": "completed"
    },
    "tags": []
   },
   "outputs": [],
   "source": [
    "from ensemble_boxes import *\n",
    "\n",
    "def nms_predictions(classes, scores, bboxes, masks, weights=None,\n",
    "                    iou_th=.5, shape=(520, 704)):\n",
    "    he, wd = shape[0], shape[1]\n",
    "    boxes_list = [[x[0] / wd, x[1] / he, x[2] / wd, x[3] / he]\n",
    "                  for x in bboxes]\n",
    "    scores_list = [x for x in scores]\n",
    "    labels_list = [x for x in classes]\n",
    "    nms_bboxes, nms_scores, nms_classes = nms(\n",
    "        boxes=[boxes_list], \n",
    "        scores=[scores_list], \n",
    "        labels=[labels_list], \n",
    "        weights=None,\n",
    "        iou_thr=iou_th\n",
    "    )\n",
    "\n",
    "    nms_masks = []\n",
    "    for s in nms_scores:\n",
    "        nms_masks.append(masks[scores.index(s)])\n",
    "#     nms_scores, nms_classes, nms_masks, nms_bboxes = \\\n",
    "#     zip(*sorted(zip(nms_scores, nms_classes, nms_masks, nms_bboxes), reverse=True))\n",
    "    scores_orig = list(nms_scores.copy())\n",
    "    nms_scores = sorted(nms_scores,reverse=True).copy()\n",
    "    #nms_scores, nms_classes, nms_masks, nms_bboxes = zip(*sorted(zip(nms_scores, nms_classes, nms_masks, nms_bboxes), reverse=True))\n",
    "    nms_masks = [nms_masks[scores_orig.index(s)] for s in nms_scores]\n",
    "    nms_classes = [nms_classes[scores_orig.index(s)] for s in nms_scores]\n",
    "    nms_bboxes = [nms_bboxes[scores_orig.index(s)] for s in nms_scores]\n",
    "\n",
    "    return nms_classes, nms_scores, nms_masks, nms_bboxes\n",
    "\n",
    "def ensemble_pred_masks(masks, pred_class, min_pixels,used):\n",
    "    result = []\n",
    "    for i, mask in enumerate(masks):\n",
    "        mask = mask * (1 - used)\n",
    "        if mask.sum() >= min_pixels[pred_class]:\n",
    "            used += mask\n",
    "            result.append(rle_encode(mask))\n",
    "    return result"
   ]
  },
  {
   "cell_type": "code",
   "execution_count": 11,
   "id": "7c0a47c0",
   "metadata": {
    "execution": {
     "iopub.execute_input": "2021-12-30T21:27:32.209438Z",
     "iopub.status.busy": "2021-12-30T21:27:32.208801Z",
     "iopub.status.idle": "2021-12-30T21:27:32.211460Z",
     "shell.execute_reply": "2021-12-30T21:27:32.211876Z",
     "shell.execute_reply.started": "2021-12-30T21:18:41.430281Z"
    },
    "papermill": {
     "duration": 0.040044,
     "end_time": "2021-12-30T21:27:32.211998",
     "exception": false,
     "start_time": "2021-12-30T21:27:32.171954",
     "status": "completed"
    },
    "tags": []
   },
   "outputs": [
    {
     "name": "stdout",
     "output_type": "stream",
     "text": [
      "3\n"
     ]
    }
   ],
   "source": [
    "print(len(csvfiles))"
   ]
  },
  {
   "cell_type": "markdown",
   "id": "78e880e5",
   "metadata": {
    "papermill": {
     "duration": 0.032844,
     "end_time": "2021-12-30T21:27:32.278044",
     "exception": false,
     "start_time": "2021-12-30T21:27:32.245200",
     "status": "completed"
    },
    "tags": []
   },
   "source": [
    "## P(mask) = P(mask|model)*P(model)"
   ]
  },
  {
   "cell_type": "code",
   "execution_count": 12,
   "id": "ddb98b5a",
   "metadata": {
    "execution": {
     "iopub.execute_input": "2021-12-30T21:27:32.400207Z",
     "iopub.status.busy": "2021-12-30T21:27:32.399509Z",
     "iopub.status.idle": "2021-12-30T21:27:32.401774Z",
     "shell.execute_reply": "2021-12-30T21:27:32.402146Z",
     "shell.execute_reply.started": "2021-12-30T21:18:42.315210Z"
    },
    "papermill": {
     "duration": 0.04522,
     "end_time": "2021-12-30T21:27:32.402272",
     "exception": false,
     "start_time": "2021-12-30T21:27:32.357052",
     "status": "completed"
    },
    "tags": []
   },
   "outputs": [],
   "source": [
    "def compute_overlaps_masks(masks1, masks2):\n",
    "    # '''\n",
    "    # mask: [instances,Height,Width,]\n",
    "    # '''\n",
    "    # flatten masks\n",
    "    masks1 = np.reshape(masks1, (masks1.shape[0],-1)).astype(np.float32)\n",
    "    masks2 = np.reshape(masks2, (masks2.shape[0],-1)).astype(np.float32)\n",
    "    area1 = np.sum(masks1, axis=-1)\n",
    "    area2 = np.sum(masks2, axis=-1)\n",
    "\n",
    "    # intersections and union\n",
    "    intersections = np.dot(masks1, masks2.T)\n",
    "    union = area1[:,None] + area2[None,:] - intersections\n",
    "    overlaps = intersections / union\n",
    "\n",
    "    return overlaps\n",
    "\n",
    "def pairwise_screening(masks1,masks2,scores,iou_thr=0.1):\n",
    "  #删去除了高IoU以外的实例\n",
    "  rest_idx = []\n",
    "  overlaps = compute_overlaps_masks(masks1,masks2)\n",
    "  for mm in range(overlaps.shape[0]):\n",
    "    if np.max(overlaps[mm]) > iou_thr:\n",
    "      ind = np.argmax(overlaps[mm])\n",
    "      rest_idx.append(ind)\n",
    "  return rest_idx\n",
    "  \n",
    "\n",
    "def digits2prob(mat):\n",
    "    mat = np.array(mat)\n",
    "    deno = 1/np.sum(mat,axis=0)\n",
    "    mat = np.multiply(mat,deno)\n",
    "    return mat"
   ]
  },
  {
   "cell_type": "code",
   "execution_count": 13,
   "id": "7b05281a",
   "metadata": {
    "execution": {
     "iopub.execute_input": "2021-12-30T21:27:32.487555Z",
     "iopub.status.busy": "2021-12-30T21:27:32.486704Z",
     "iopub.status.idle": "2021-12-30T21:27:45.097938Z",
     "shell.execute_reply": "2021-12-30T21:27:45.098434Z",
     "shell.execute_reply.started": "2021-12-30T21:18:42.785699Z"
    },
    "papermill": {
     "duration": 12.66275,
     "end_time": "2021-12-30T21:27:45.098597",
     "exception": false,
     "start_time": "2021-12-30T21:27:32.435847",
     "status": "completed"
    },
    "tags": []
   },
   "outputs": [
    {
     "name": "stderr",
     "output_type": "stream",
     "text": [
      "100%|██████████| 3/3 [00:12<00:00,  4.03s/it]\n"
     ]
    }
   ],
   "source": [
    "# 三细胞 adding\n",
    "import numpy as np\n",
    "import torch\n",
    "from tqdm import tqdm\n",
    "import re\n",
    "ids = csvfiles[0].loc[:,'id'].values\n",
    "totalids = list(set(ids.tolist()))\n",
    "\n",
    "subm_ids = []\n",
    "subm_masks = []\n",
    "\n",
    "for id in tqdm(totalids,total=len(totalids)):\n",
    "    nmsmasks,nmsclasses,nmsscores,nmsboxes = [],[],[],[]\n",
    "    pred_classes = []\n",
    "    for idx,csvfile in enumerate(csvfiles):\n",
    "        index = csvfile[csvfile['id'] == id].index\n",
    "        masks = csvfile.loc[index,'masks'].values\n",
    "        \n",
    "        pred_classes = csvfile.loc[index,'classes'].values.tolist()\n",
    "        pred_class = max(set(pred_classes), key=pred_classes.count)\n",
    "\n",
    "        #model_confidence = model_confidences[idx][pred_class]\n",
    "        pred_masks = np.zeros((masks.shape[0],520,704))\n",
    "        scores = (csvfile.loc[index,'scores']).values.tolist()\n",
    "        boxes = csvfile.loc[index,'bboxes'].values.tolist()\n",
    "\n",
    "        bboxes = []\n",
    "        for i in range(len(boxes)):\n",
    "            box = boxes[i].replace('[','').replace(']','').split(',')\n",
    "            bboxes.append(list(map(float,box)))\n",
    "\n",
    "        for i in range(masks.shape[0]):\n",
    "            pred_masks[i,:,:] = rle_decode(masks[i])\n",
    "\n",
    "        if idx == 0:\n",
    "          base_masks = pred_masks.copy()\n",
    "          base_classes = pred_classes.copy()\n",
    "          base_scores = scores.copy()\n",
    "          base_bboxes = bboxes.copy()\n",
    "          \n",
    "        else:\n",
    "          rest_idx = pairwise_screening(base_masks,pred_masks,0.1)\n",
    "          pred_masks = pred_masks[rest_idx]\n",
    "          pred_classes = [pred_classes[idx] for idx in rest_idx]\n",
    "          scores = [scores[idx] for idx in rest_idx]\n",
    "          bboxes = [bboxes[idx] for idx in rest_idx]\n",
    "\n",
    "          #update base\n",
    "          base_classes.extend(pred_classes)\n",
    "          base_scores.extend(scores)\n",
    "          base_bboxes.extend(bboxes)\n",
    "          base_masks = np.append(base_masks,pred_masks,axis=0)\n",
    "  \n",
    "          base_classes, base_scores, base_masks, base_bboxes = nms_predictions(\n",
    "          base_classes, \n",
    "          base_scores, \n",
    "          base_bboxes,\n",
    "          base_masks, \n",
    "          #weights=None,#model_confidences[:,pred_class],\n",
    "          iou_th=0.3\n",
    "        )\n",
    "          base_classes = list(base_classes)\n",
    "          base_bboxes = list(base_bboxes)\n",
    "          base_bboxes = list(base_bboxes)\n",
    "          base_scores = list(base_scores)\n",
    "          base_masks = np.array(base_masks)\n",
    "  \n",
    "        nmsboxes.extend(bboxes)\n",
    "        nmsmasks.extend(pred_masks)\n",
    "        nmsclasses.extend(pred_classes)\n",
    "        nmsscores.extend(scores)\n",
    "  \n",
    "    nmsclasses, nmsscores, nmsmasks,_ = nms_predictions(\n",
    "        nmsclasses, \n",
    "        nmsscores, \n",
    "        nmsboxes,\n",
    "        nmsmasks, \n",
    "        #weights=None,#model_confidences[:,pred_class],\n",
    "        iou_th=0.3\n",
    "    )\n",
    "    used = np.zeros((520, 704))\n",
    "    pred_class = max(set(nmsclasses), key=nmsclasses.count)\n",
    "    encoded_masks = ensemble_pred_masks(\n",
    "        nmsmasks, \n",
    "        pred_class, \n",
    "        min_pixels=MIN_PIXELS,\n",
    "        used=used\n",
    "    )\n",
    "    for enc_mask in encoded_masks:\n",
    "        subm_ids.append(id)\n",
    "        subm_masks.append(enc_mask)\n",
    "\n",
    "submit = pd.DataFrame({\n",
    "    'id': subm_ids, \n",
    "    'predicted': subm_masks\n",
    "})\n",
    "submit.to_csv('submission.csv', index=False)"
   ]
  },
  {
   "cell_type": "code",
   "execution_count": 14,
   "id": "080217d7",
   "metadata": {
    "execution": {
     "iopub.execute_input": "2021-12-30T21:27:45.179741Z",
     "iopub.status.busy": "2021-12-30T21:27:45.179047Z",
     "iopub.status.idle": "2021-12-30T21:27:45.189730Z",
     "shell.execute_reply": "2021-12-30T21:27:45.190273Z",
     "shell.execute_reply.started": "2021-12-30T21:18:52.152847Z"
    },
    "papermill": {
     "duration": 0.054531,
     "end_time": "2021-12-30T21:27:45.190418",
     "exception": false,
     "start_time": "2021-12-30T21:27:45.135887",
     "status": "completed"
    },
    "tags": []
   },
   "outputs": [
    {
     "data": {
      "text/html": [
       "<div>\n",
       "<style scoped>\n",
       "    .dataframe tbody tr th:only-of-type {\n",
       "        vertical-align: middle;\n",
       "    }\n",
       "\n",
       "    .dataframe tbody tr th {\n",
       "        vertical-align: top;\n",
       "    }\n",
       "\n",
       "    .dataframe thead th {\n",
       "        text-align: right;\n",
       "    }\n",
       "</style>\n",
       "<table border=\"1\" class=\"dataframe\">\n",
       "  <thead>\n",
       "    <tr style=\"text-align: right;\">\n",
       "      <th></th>\n",
       "      <th>id</th>\n",
       "      <th>predicted</th>\n",
       "    </tr>\n",
       "  </thead>\n",
       "  <tbody>\n",
       "    <tr>\n",
       "      <th>0</th>\n",
       "      <td>d8bfd1dafdc4</td>\n",
       "      <td>351 15 1054 18 1758 19 2462 21 3166 23 3871 24...</td>\n",
       "    </tr>\n",
       "    <tr>\n",
       "      <th>1</th>\n",
       "      <td>d8bfd1dafdc4</td>\n",
       "      <td>706 5 1410 5 2114 6 2818 6 3522 6 4226 7 4930 ...</td>\n",
       "    </tr>\n",
       "    <tr>\n",
       "      <th>2</th>\n",
       "      <td>d8bfd1dafdc4</td>\n",
       "      <td>163948 3 164649 8 165352 10 166054 13 166757 1...</td>\n",
       "    </tr>\n",
       "    <tr>\n",
       "      <th>3</th>\n",
       "      <td>d8bfd1dafdc4</td>\n",
       "      <td>170 60 874 63 1577 65 2282 64 2986 65 3690 65 ...</td>\n",
       "    </tr>\n",
       "    <tr>\n",
       "      <th>4</th>\n",
       "      <td>d8bfd1dafdc4</td>\n",
       "      <td>225005 6 225709 6 226412 8 227116 8 227819 10 ...</td>\n",
       "    </tr>\n",
       "    <tr>\n",
       "      <th>...</th>\n",
       "      <td>...</td>\n",
       "      <td>...</td>\n",
       "    </tr>\n",
       "    <tr>\n",
       "      <th>345</th>\n",
       "      <td>7ae19de7bc2a</td>\n",
       "      <td>217627 11 218329 15 219033 16 219737 16 220441...</td>\n",
       "    </tr>\n",
       "    <tr>\n",
       "      <th>346</th>\n",
       "      <td>7ae19de7bc2a</td>\n",
       "      <td>323137 7 323841 1 323845 4 324545 1 324551 3 3...</td>\n",
       "    </tr>\n",
       "    <tr>\n",
       "      <th>347</th>\n",
       "      <td>7ae19de7bc2a</td>\n",
       "      <td>315597 5 316300 1 317003 1 317706 2 318408 4 3...</td>\n",
       "    </tr>\n",
       "    <tr>\n",
       "      <th>348</th>\n",
       "      <td>7ae19de7bc2a</td>\n",
       "      <td>79460 8 80162 11 80865 11 81568 11 82272 10 82...</td>\n",
       "    </tr>\n",
       "    <tr>\n",
       "      <th>349</th>\n",
       "      <td>7ae19de7bc2a</td>\n",
       "      <td>168052 1 168755 2 169458 3 170162 3 170866 3 1...</td>\n",
       "    </tr>\n",
       "  </tbody>\n",
       "</table>\n",
       "<p>350 rows × 2 columns</p>\n",
       "</div>"
      ],
      "text/plain": [
       "               id                                          predicted\n",
       "0    d8bfd1dafdc4  351 15 1054 18 1758 19 2462 21 3166 23 3871 24...\n",
       "1    d8bfd1dafdc4  706 5 1410 5 2114 6 2818 6 3522 6 4226 7 4930 ...\n",
       "2    d8bfd1dafdc4  163948 3 164649 8 165352 10 166054 13 166757 1...\n",
       "3    d8bfd1dafdc4  170 60 874 63 1577 65 2282 64 2986 65 3690 65 ...\n",
       "4    d8bfd1dafdc4  225005 6 225709 6 226412 8 227116 8 227819 10 ...\n",
       "..            ...                                                ...\n",
       "345  7ae19de7bc2a  217627 11 218329 15 219033 16 219737 16 220441...\n",
       "346  7ae19de7bc2a  323137 7 323841 1 323845 4 324545 1 324551 3 3...\n",
       "347  7ae19de7bc2a  315597 5 316300 1 317003 1 317706 2 318408 4 3...\n",
       "348  7ae19de7bc2a  79460 8 80162 11 80865 11 81568 11 82272 10 82...\n",
       "349  7ae19de7bc2a  168052 1 168755 2 169458 3 170162 3 170866 3 1...\n",
       "\n",
       "[350 rows x 2 columns]"
      ]
     },
     "execution_count": 14,
     "metadata": {},
     "output_type": "execute_result"
    }
   ],
   "source": [
    "submit"
   ]
  },
  {
   "cell_type": "code",
   "execution_count": 15,
   "id": "a0686b1d",
   "metadata": {
    "execution": {
     "iopub.execute_input": "2021-12-30T21:27:45.266692Z",
     "iopub.status.busy": "2021-12-30T21:27:45.265963Z",
     "iopub.status.idle": "2021-12-30T21:27:45.268492Z",
     "shell.execute_reply": "2021-12-30T21:27:45.267975Z",
     "shell.execute_reply.started": "2021-12-30T21:18:56.310431Z"
    },
    "papermill": {
     "duration": 0.042306,
     "end_time": "2021-12-30T21:27:45.268610",
     "exception": false,
     "start_time": "2021-12-30T21:27:45.226304",
     "status": "completed"
    },
    "tags": []
   },
   "outputs": [],
   "source": [
    "# import matplotlib.pyplot as plt\n",
    "# import cv2\n",
    "# submit = pd.read_csv(\"submission.csv\")\n",
    "# submit = submit.groupby(by=\"id\")\n",
    "# png = \"7ae19de7bc2a\"\n",
    "# submit = submit.get_group(png)\n",
    "\n",
    "# _, axs = plt.subplots(1,2, figsize=(40,15))\n",
    "# axs[1].imshow(cv2.imread(f\"../input/sartorius-cell-instance-segmentation/test/{png}.png\"))\n",
    "# for i in range(submit.shape[0]):\n",
    "#     dec = rle_decode(submit.predicted.iloc[i])\n",
    "#     axs[0].imshow(np.ma.masked_where(dec==0, dec))"
   ]
  },
  {
   "cell_type": "code",
   "execution_count": null,
   "id": "2bb8b11f",
   "metadata": {
    "papermill": {
     "duration": 0.036917,
     "end_time": "2021-12-30T21:27:45.342390",
     "exception": false,
     "start_time": "2021-12-30T21:27:45.305473",
     "status": "completed"
    },
    "tags": []
   },
   "outputs": [],
   "source": []
  }
 ],
 "metadata": {
  "kernelspec": {
   "display_name": "Python 3",
   "language": "python",
   "name": "python3"
  },
  "language_info": {
   "codemirror_mode": {
    "name": "ipython",
    "version": 3
   },
   "file_extension": ".py",
   "mimetype": "text/x-python",
   "name": "python",
   "nbconvert_exporter": "python",
   "pygments_lexer": "ipython3",
   "version": "3.7.10"
  },
  "papermill": {
   "default_parameters": {},
   "duration": 423.424531,
   "end_time": "2021-12-30T21:27:46.089290",
   "environment_variables": {},
   "exception": null,
   "input_path": "__notebook__.ipynb",
   "output_path": "__notebook__.ipynb",
   "parameters": {},
   "start_time": "2021-12-30T21:20:42.664759",
   "version": "2.3.3"
  }
 },
 "nbformat": 4,
 "nbformat_minor": 5
}
